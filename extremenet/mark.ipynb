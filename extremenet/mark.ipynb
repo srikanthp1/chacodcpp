{
 "cells": [
  {
   "cell_type": "markdown",
   "metadata": {},
   "source": [
    "normal resnet was really fast when training but has accuracy not higher than extremeresnet. \n",
    "\n",
    "on the first epoch itself extremeresnet achieved 96% accuracy on test data. which could just be because of 1024*10 matrix instead of 512*10. "
   ]
  },
  {
   "cell_type": "markdown",
   "metadata": {},
   "source": [
    "but it seemed like accuracy saturated at the same point for both of them. which makes extremeresnet good but not great. "
   ]
  },
  {
   "cell_type": "code",
   "execution_count": null,
   "metadata": {},
   "outputs": [],
   "source": []
  },
  {
   "cell_type": "markdown",
   "metadata": {},
   "source": [
    "I couldnt install pytorch c++ on my windows platform, so i went ahead with python implementation. i dont know if it is for that reason or some but training by extremenet took a lot of time compared to traditional resnet. "
   ]
  },
  {
   "cell_type": "markdown",
   "metadata": {},
   "source": []
  },
  {
   "attachments": {},
   "cell_type": "markdown",
   "metadata": {},
   "source": [
    "run modelc.py to create onnx inference model \n",
    "run inference_onnx.py to get inference "
   ]
  }
 ],
 "metadata": {
  "kernelspec": {
   "display_name": "Python 3.10.5 64-bit",
   "language": "python",
   "name": "python3"
  },
  "language_info": {
   "name": "python",
   "version": "3.10.5"
  },
  "orig_nbformat": 4,
  "vscode": {
   "interpreter": {
    "hash": "369f2c481f4da34e4445cda3fffd2e751bd1c4d706f27375911949ba6bb62e1c"
   }
  }
 },
 "nbformat": 4,
 "nbformat_minor": 2
}
